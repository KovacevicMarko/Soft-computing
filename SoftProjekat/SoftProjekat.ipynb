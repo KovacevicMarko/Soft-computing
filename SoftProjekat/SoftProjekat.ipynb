{
 "cells": [
  {
   "cell_type": "code",
   "execution_count": 1,
   "metadata": {
    "collapsed": false
   },
   "outputs": [],
   "source": [
    "import pytesseract\n",
    "from PIL import Image\n",
    "import nltk\n",
    "import shutil\n",
    "import os"
   ]
  },
  {
   "cell_type": "code",
   "execution_count": 2,
   "metadata": {
    "collapsed": true
   },
   "outputs": [],
   "source": [
    "def f1(str):\n",
    "        token = nltk.word_tokenize(str);\n",
    "        tagged = nltk.pos_tag(token);\n",
    "        #print(tagged);\n",
    "        return tagged"
   ]
  },
  {
   "cell_type": "code",
   "execution_count": 3,
   "metadata": {
    "collapsed": false,
    "scrolled": true
   },
   "outputs": [
    {
     "name": "stdout",
     "output_type": "stream",
     "text": [
      "Employee is working in 0 or 1 company , and in company are\n",
      "working 1 or * employees.\n",
      "\n",
      "Teamleider may be superior to 1 or * employees , and employee\n",
      "has 0 or * teamleiders.\n",
      "\n",
      "Teamleider can manage 1 or * teams , and team can be managed\n",
      "by 0 or * teamleiders.\n",
      "\n",
      "Company produces 1 or * products , and product can be produced\n",
      "by 1 and only 1 company.\n",
      "\n",
      "Client can use 0 or * products , and product can be used by 0 or *\n",
      "clients.\n"
     ]
    }
   ],
   "source": [
    "text= pytesseract.image_to_string(Image.open('images/test1.png')) \n",
    "print text"
   ]
  },
  {
   "cell_type": "code",
   "execution_count": 4,
   "metadata": {
    "collapsed": false
   },
   "outputs": [
    {
     "name": "stdout",
     "output_type": "stream",
     "text": [
      "[('Employee', 'NNP'), ('is', 'VBZ'), ('working', 'VBG'), ('in', 'IN'), ('0', '-NONE-'), ('or', 'CC'), ('1', 'CD'), ('company', 'NN'), (',', ','), ('and', 'CC'), ('in', 'IN'), ('company', 'NN'), ('are', 'VBP'), ('working', 'VBG'), ('1', 'CD'), ('or', 'CC'), ('*', '-NONE-'), ('employees', 'NNS'), ('.', '.'), ('Teamleider', 'NNP'), ('may', 'MD'), ('be', 'VB'), ('superior', 'JJ'), ('to', 'TO'), ('1', 'CD'), ('or', 'CC'), ('*', '-NONE-'), ('employees', 'NNS'), (',', ','), ('and', 'CC'), ('employee', 'NN'), ('has', 'VBZ'), ('0', '-NONE-'), ('or', 'CC'), ('*', '-NONE-'), ('teamleiders', 'NNS'), ('.', '.'), ('Teamleider', 'NNP'), ('can', 'MD'), ('manage', 'VB'), ('1', 'CD'), ('or', 'CC'), ('*', '-NONE-'), ('teams', 'NNS'), (',', ','), ('and', 'CC'), ('team', 'NN'), ('can', 'MD'), ('be', 'VB'), ('managed', 'VBN'), ('by', 'IN'), ('0', '-NONE-'), ('or', 'CC'), ('*', '-NONE-'), ('teamleiders', 'NNS'), ('.', '.'), ('Company', 'NNP'), ('produces', 'VBZ'), ('1', 'CD'), ('or', 'CC'), ('*', '-NONE-'), ('products', 'NNS'), (',', ','), ('and', 'CC'), ('product', 'NN'), ('can', 'MD'), ('be', 'VB'), ('produced', 'VBN'), ('by', 'IN'), ('1', 'CD'), ('and', 'CC'), ('only', 'RB'), ('1', 'CD'), ('company', 'NN'), ('.', '.'), ('Client', 'NNP'), ('can', 'MD'), ('use', 'VB'), ('0', '-NONE-'), ('or', 'CC'), ('*', '-NONE-'), ('products', 'NNS'), (',', ','), ('and', 'CC'), ('product', 'NN'), ('can', 'MD'), ('be', 'VB'), ('used', 'VBN'), ('by', 'IN'), ('0', '-NONE-'), ('or', 'CC'), ('*', '-NONE-'), ('clients', 'NNS'), ('.', '.')]\n"
     ]
    }
   ],
   "source": [
    "file  = f1(text)\n",
    "print(file)"
   ]
  },
  {
   "cell_type": "code",
   "execution_count": 5,
   "metadata": {
    "collapsed": false
   },
   "outputs": [],
   "source": [
    "text_file = open(\"Output.txt\", \"w\")\n",
    "text_file.write(\"%s\" % file)\n",
    "text_file.close()\n"
   ]
  },
  {
   "cell_type": "code",
   "execution_count": 6,
   "metadata": {
    "collapsed": false
   },
   "outputs": [],
   "source": [
    "srcfile = 'Output.txt'\n",
    "dstroot = '/home/student/Desktop/share/Soft/Soft/bin/Release'\n",
    "\n",
    "assert not os.path.isabs(srcfile)\n",
    "dstdir =  os.path.join(dstroot, os.path.dirname(srcfile))\n",
    "\n",
    "#os.makedirs(dstdir) \n",
    "shutil.copy(srcfile, dstdir)"
   ]
  },
  {
   "cell_type": "code",
   "execution_count": null,
   "metadata": {
    "collapsed": false
   },
   "outputs": [],
   "source": []
  },
  {
   "cell_type": "code",
   "execution_count": null,
   "metadata": {
    "collapsed": true
   },
   "outputs": [],
   "source": []
  },
  {
   "cell_type": "code",
   "execution_count": null,
   "metadata": {
    "collapsed": false
   },
   "outputs": [],
   "source": []
  },
  {
   "cell_type": "code",
   "execution_count": null,
   "metadata": {
    "collapsed": false
   },
   "outputs": [],
   "source": []
  },
  {
   "cell_type": "code",
   "execution_count": 6,
   "metadata": {
    "collapsed": false
   },
   "outputs": [
    {
     "name": "stdout",
     "output_type": "stream",
     "text": [
      "[('State', 'NN'), ('can', 'MD'), ('have', 'VB'), ('1', 'CD'), ('and', 'CC'), ('only', 'RB'), ('1', 'CD'), ('pollity', 'NN'), (',', ','), ('and', 'CC'), ('pollity', 'NN'), ('can', 'MD'), ('be', 'VB'), ('linked', 'VBN'), ('for', 'IN'), ('1', 'CD'), ('or', 'CC'), ('*', 'JJ'), ('state', 'NN'), ('.', '.'), ('Pollity', 'NN'), ('have', 'VBP'), ('1', 'CD'), ('and', 'CC'), ('only', 'RB'), ('1', 'CD'), ('history', 'NN'), (',', ','), ('and', 'CC'), ('history', 'NN'), ('belong', 'NN'), ('to', 'TO'), ('1', 'CD'), ('and', 'CC'), ('only', 'RB'), ('1', 'CD'), ('pollity', 'NN'), ('.', '.'), ('State', 'NN'), ('can', 'MD'), ('have', 'VB'), ('1', 'CD'), ('or', 'CC'), ('*', 'JJ'), ('region', 'NN'), (',', ','), ('and', 'CC'), ('region', 'NN'), ('can', 'MD'), ('belong', 'VB'), ('to', 'TO'), ('1', 'CD'), ('and', 'CC'), ('only', 'RB'), ('1', 'CD'), ('state', 'NN'), ('.', '.'), ('Region', 'NN'), ('can', 'MD'), ('have', 'VB'), ('1', 'CD'), ('or', 'CC'), ('*', 'JJ'), ('cities', 'NNS'), (',', ','), ('and', 'CC'), ('the', 'DT'), ('city', 'NN'), ('can', 'MD'), ('belong', 'VB'), ('to', 'TO'), ('1', 'CD'), ('and', 'CC'), ('only', 'RB'), ('1', 'CD'), ('region', 'NN'), ('.', '.'), ('Region', 'NN'), ('can', 'MD'), ('have', 'VB'), ('1', 'CD'), ('and', 'CC'), ('only', 'RB'), ('1', 'CD'), ('type', 'NN'), (',', ','), ('and', 'CC'), ('type', 'NN'), ('can', 'MD'), ('be', 'VB'), ('linked', 'VBN'), ('for', 'IN'), ('1', 'CD'), ('or', 'CC'), ('*', 'JJ'), ('region', 'NN'), ('.', '.')]\n"
     ]
    }
   ],
   "source": [
    "#proba samo string\n",
    "text2 = \"State can have 1 and only 1 pollity, and pollity can be linked for 1 or * state. Pollity have 1 and only 1 history, and history belong to 1 and only 1 pollity. State can have 1 or * region, and region can belong to 1 and only 1 state. Region can have 1 or * cities, and the city can belong to 1 and only 1 region. Region can have 1 and only 1 type, and type can be linked for 1 or * region.\";\n",
    "file1  = f1(text2)\n",
    "print(file1)\n"
   ]
  },
  {
   "cell_type": "code",
   "execution_count": null,
   "metadata": {
    "collapsed": true
   },
   "outputs": [],
   "source": []
  }
 ],
 "metadata": {
  "kernelspec": {
   "display_name": "Python 2",
   "language": "python",
   "name": "python2"
  },
  "language_info": {
   "codemirror_mode": {
    "name": "ipython",
    "version": 2
   },
   "file_extension": ".py",
   "mimetype": "text/x-python",
   "name": "python",
   "nbconvert_exporter": "python",
   "pygments_lexer": "ipython2",
   "version": "2.7.10"
  }
 },
 "nbformat": 4,
 "nbformat_minor": 0
}
